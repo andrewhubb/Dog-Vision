{
 "cells": [
  {
   "cell_type": "code",
   "execution_count": 1,
   "id": "81c22744-b1f4-48d9-8259-415f76843ab5",
   "metadata": {},
   "outputs": [
    {
     "name": "stderr",
     "output_type": "stream",
     "text": [
      "2025-03-01 19:55:14.318397: I tensorflow/core/platform/cpu_feature_guard.cc:210] This TensorFlow binary is optimized to use available CPU instructions in performance-critical operations.\n",
      "To enable the following instructions: SSE4.1 SSE4.2 AVX AVX2 FMA, in other operations, rebuild TensorFlow with the appropriate compiler flags.\n"
     ]
    },
    {
     "ename": "NameError",
     "evalue": "name 'np' is not defined",
     "output_type": "error",
     "traceback": [
      "\u001b[0;31m---------------------------------------------------------------------------\u001b[0m",
      "\u001b[0;31mNameError\u001b[0m                                 Traceback (most recent call last)",
      "Cell \u001b[0;32mIn[1], line 24\u001b[0m\n\u001b[1;32m     21\u001b[0m os\u001b[38;5;241m.\u001b[39menviron[\u001b[38;5;124m\"\u001b[39m\u001b[38;5;124mTF_CPP_MIN_LOG_LEVEL\u001b[39m\u001b[38;5;124m\"\u001b[39m] \u001b[38;5;241m=\u001b[39m \u001b[38;5;124m\"\u001b[39m\u001b[38;5;124m3\u001b[39m\u001b[38;5;124m\"\u001b[39m\n\u001b[1;32m     22\u001b[0m tf\u001b[38;5;241m.\u001b[39mget_logger()\u001b[38;5;241m.\u001b[39msetLevel(\u001b[38;5;124m'\u001b[39m\u001b[38;5;124mERROR\u001b[39m\u001b[38;5;124m'\u001b[39m)\n\u001b[0;32m---> 24\u001b[0m np\u001b[38;5;241m.\u001b[39mrandom\u001b[38;5;241m.\u001b[39mseed(\u001b[38;5;241m42\u001b[39m)\n\u001b[1;32m     25\u001b[0m tf\u001b[38;5;241m.\u001b[39mrandom\u001b[38;5;241m.\u001b[39mset_seed(\u001b[38;5;241m42\u001b[39m)\n\u001b[1;32m     27\u001b[0m \u001b[38;5;28mprint\u001b[39m(\u001b[38;5;124m\"\u001b[39m\u001b[38;5;124mTF version:\u001b[39m\u001b[38;5;124m\"\u001b[39m, tf\u001b[38;5;241m.\u001b[39m__version__)\n",
      "\u001b[0;31mNameError\u001b[0m: name 'np' is not defined"
     ]
    }
   ],
   "source": [
    "# Downgrade tensorfow and keras to solve a problem when trying to build a model\n",
    "# !pip install tensorflow==2.15.0 keras==2.15.0 # I use conda so this is not needed and I have tensorflow and keras at version 2.17.0\n",
    "\n",
    "# Import necessary tools\n",
    "import tensorflow as tf\n",
    "import tensorflow_hub as hub\n",
    "import tf_keras as keras\n",
    "\n",
    "from sklearn.model_selection import train_test_split\n",
    "\n",
    "import os\n",
    "import matplotlib.pyplot as plt\n",
    "from matplotlib.pyplot import imread\n",
    "import numpy as np\n",
    "import datetime\n",
    "import pandas as pd\n",
    "from IPython.display import Image\n",
    "import warnings\n",
    "\n",
    "warnings.filterwarnings('ignore')\n",
    "os.environ[\"TF_CPP_MIN_LOG_LEVEL\"] = \"3\"\n",
    "tf.get_logger().setLevel('ERROR')\n",
    "\n",
    "np.random.seed(42)\n",
    "tf.random.set_seed(42)\n",
    "\n",
    "print(\"TF version:\", tf.__version__)\n",
    "print(\"TF Hub version:\", hub.__version__)\n",
    "\n",
    "# Check for GPU availability\n",
    "print(\"GPU\", \"available (YESSSS!!!!!)\" if tf.config.list_physical_devices(\"GPU\") else \"not available :(\")"
   ]
  },
  {
   "cell_type": "code",
   "execution_count": null,
   "id": "5868f5e5-490e-43f6-af10-d127f0ee7b88",
   "metadata": {},
   "outputs": [],
   "source": [
    "# Checkout the labels of our data\n",
    "import pandas as pd\n",
    "labels_csv = pd.read_csv(\"./labels.csv\")\n",
    "print(labels_csv.describe())\n",
    "labels_csv.head()"
   ]
  },
  {
   "cell_type": "code",
   "execution_count": null,
   "id": "bac08915-6b34-4234-9358-8336b9392de3",
   "metadata": {},
   "outputs": [],
   "source": [
    "import numpy as np\n",
    "labels = labels_csv[\"breed\"].to_numpy()\n",
    "# labels = np.array(labels) # Does same thing as above\n",
    "labels"
   ]
  },
  {
   "cell_type": "code",
   "execution_count": null,
   "id": "0e129f61-aacb-4b89-9900-5afa59ca2374",
   "metadata": {},
   "outputs": [],
   "source": [
    "# Find the unique label values\n",
    "unique_breeds = np.unique(labels)\n",
    "len(unique_breeds)"
   ]
  },
  {
   "cell_type": "code",
   "execution_count": null,
   "id": "aded5a3a-dc21-4f14-91ff-b7ba637c0f6c",
   "metadata": {},
   "outputs": [],
   "source": [
    "# Define image size\n",
    "IMG_SIZE = 224\n",
    "\n",
    "# Create a function for preprocessing images\n",
    "def process_image(image_path, img_size=IMG_SIZE):\n",
    "  \"\"\"\n",
    "  Takes an image file path and turns the image into a Tensor\n",
    "  \"\"\"\n",
    "  # Read in an image file\n",
    "  image = tf.io.read_file(image_path)\n",
    "  # Turn the jpeg image into numerical Tensors with 3 color channels (Red, Green, Blue)\n",
    "  image = tf.image.decode_jpeg(image, channels=3)\n",
    "  # Convert the color channel values from 0-225 to 0-1 values\n",
    "  image = tf.image.convert_image_dtype(image, tf.float32)\n",
    "  # Resize the image to our desired value (224,224)\n",
    "  image = tf.image.resize(image, size=[IMG_SIZE, IMG_SIZE])\n",
    "\n",
    "  return image"
   ]
  },
  {
   "cell_type": "code",
   "execution_count": null,
   "id": "7c0fb723-1466-40e8-8c1a-2655d63039f1",
   "metadata": {},
   "outputs": [],
   "source": [
    "# Setup input shape to the model\n",
    "INPUT_SHAPE = [None, IMG_SIZE, IMG_SIZE, 3] # batch, height, width, colour channels\n",
    "\n",
    "# Setup output shape of our model\n",
    "OUTPUT_SHAPE = len(unique_breeds)\n",
    "\n",
    "# Setup model URL from the new repository on Kaggle that has moved from TensorFlow Hub\n",
    "MODEL_URL = \"https://www.kaggle.com/models/google/mobilenet-v2/TensorFlow2/130-224-classification/2\""
   ]
  },
  {
   "cell_type": "code",
   "execution_count": null,
   "id": "be7882bf-435e-4c5d-a1c4-ac01f7512c97",
   "metadata": {},
   "outputs": [],
   "source": [
    "# Create a function to load a trained model\n",
    "def load_model(model_path):\n",
    "  \"\"\"\n",
    "  Loads a saved model from a specified path.\n",
    "  \"\"\"\n",
    "  print(f\"Loading saved model from: {model_path}\")\n",
    "  model = keras.models.load_model(model_path,\n",
    "                                     custom_objects={\"KerasLayer\":hub.KerasLayer})\n",
    "  return model"
   ]
  },
  {
   "cell_type": "code",
   "execution_count": null,
   "id": "8c498362-4b98-46d4-a19a-0868af94df50",
   "metadata": {},
   "outputs": [],
   "source": [
    "def get_pred_label(prediction_probabilities):\n",
    "  \"\"\"\n",
    "  Turns an array of prediction probabilities into a label.\n",
    "  \"\"\"\n",
    "  return unique_breeds[np.argmax(prediction_probabilities)]"
   ]
  },
  {
   "cell_type": "code",
   "execution_count": null,
   "id": "7f09808b-4a35-4c8c-8573-3a3a87b51d82",
   "metadata": {},
   "outputs": [],
   "source": [
    "# loaded_full_model = load_model(\"./models/20250225-20261740489970-full-image-set-mobilenetv2-Adam.h5\")\n",
    "loaded_full_model = load_model(\"./models/2025-03-01-19-05-1740830750-full-image-set-mobilenetv2-Adam.keras\")"
   ]
  },
  {
   "cell_type": "code",
   "execution_count": null,
   "id": "70f757e2-24b3-4baa-b433-7094d5079d2b",
   "metadata": {},
   "outputs": [],
   "source": [
    "# Define the batch size\n",
    "BATCH_SIZE = 32\n",
    "\n",
    "# Create a function to turn data into batches\n",
    "def create_data_batches(X, y=None, batch_size=BATCH_SIZE, valid_data=False, test_data=False):\n",
    "  \"\"\"\n",
    "  Creates batches of data out of image (X) and label (y) pairs.\n",
    "  Shuffles the data if it's training data but doesn't shuffle if it's validation data.\n",
    "  Also accepts test data as input (no labels).\n",
    "  \"\"\"\n",
    "\n",
    "  # If the data is a test dataset, we probably don't have have labels\n",
    "  if test_data:\n",
    "    print(\"Creating test data batches...\")\n",
    "    data = tf.data.Dataset.from_tensor_slices((tf.constant(X))) # only filepaths (no labels)\n",
    "    data_batch = data.map(process_image).batch(BATCH_SIZE)\n",
    "    return data_batch\n",
    "\n",
    "  # If the data is a valid dataset, we don't need to shuffle it\n",
    "  elif valid_data:\n",
    "    print(\"Creating validation data batches...\")\n",
    "    data = tf.data.Dataset.from_tensor_slices((tf.constant(X), # filepaths\n",
    "                                               tf.constant(y))) # labels\n",
    "    data_batch = data.map(get_image_label).batch(BATCH_SIZE)\n",
    "    return data_batch\n",
    "\n",
    "  else:\n",
    "    print(\"Creating training data batches...\")\n",
    "    # Turn filepaths and labels into Tensors\n",
    "    data = tf.data.Dataset.from_tensor_slices((tf.constant(X), # filepaths\n",
    "                                               tf.constant(y))) # labels\n",
    "\n",
    "    # Shuffling pathnames and labels before mapping image processor function\n",
    "    data = data.shuffle(buffer_size=len(X))\n",
    "\n",
    "    # Create (image, label) tuples (this also turns the image path into a preprocessed image)\n",
    "    data = data.map(get_image_label)\n",
    "\n",
    "    # Turn the training data into batches\n",
    "    data_batch = data.batch(BATCH_SIZE)\n",
    "\n",
    "  return data_batch"
   ]
  },
  {
   "cell_type": "code",
   "execution_count": null,
   "id": "1621a883-5057-4b02-a5c2-a8332b525537",
   "metadata": {},
   "outputs": [],
   "source": [
    "# Get custom image filepaths\n",
    "custom_path = \"./my-dog-photos/\"\n",
    "custom_image_paths = [custom_path + fname for fname in os.listdir(custom_path)]"
   ]
  },
  {
   "cell_type": "code",
   "execution_count": null,
   "id": "95e54fc5-9860-4ab5-b9ca-fc17fa06d4a8",
   "metadata": {},
   "outputs": [],
   "source": [
    "custom_image_paths"
   ]
  },
  {
   "cell_type": "code",
   "execution_count": null,
   "id": "d31d6659-9344-4b4c-89c1-703c1f6f829f",
   "metadata": {},
   "outputs": [],
   "source": [
    "custom_data = create_data_batches(custom_image_paths, test_data=True)\n",
    "custom_data"
   ]
  },
  {
   "cell_type": "code",
   "execution_count": null,
   "id": "fa714078-4985-4ed0-a30d-7f7e64c3516b",
   "metadata": {},
   "outputs": [],
   "source": [
    "custom_preds = loaded_full_model.predict(custom_data)"
   ]
  },
  {
   "cell_type": "code",
   "execution_count": null,
   "id": "d212e71c-d3d3-47bf-aeee-e8bd45108cbc",
   "metadata": {},
   "outputs": [],
   "source": [
    "custom_preds.shape"
   ]
  },
  {
   "cell_type": "code",
   "execution_count": null,
   "id": "3a5663b0-9938-4a5c-b2e8-5202c9ee7e94",
   "metadata": {},
   "outputs": [],
   "source": [
    "# Get custom image prediction labels\n",
    "custom_pred_labels = [get_pred_label(custom_preds[i]) for i in range(len(custom_preds))]\n",
    "custom_pred_labels"
   ]
  },
  {
   "cell_type": "code",
   "execution_count": null,
   "id": "d8f2445a-9a3e-4fff-bfa7-28d68ee3e909",
   "metadata": {},
   "outputs": [],
   "source": [
    "# Get custom images (our unbatchify() function won't work since there aren't labels... maybe we could fix this later)\n",
    "custom_images = []\n",
    "\n",
    "# Loop through unbatched data\n",
    "for image in custom_data.unbatch().as_numpy_iterator():     \n",
    "  custom_images.append(image)    "
   ]
  },
  {
   "cell_type": "code",
   "execution_count": null,
   "id": "be0977e1-d21a-4dc9-9d56-58f2d5d72eef",
   "metadata": {},
   "outputs": [],
   "source": [
    "# Check custom image predictions\n",
    "plt.figure(figsize=(10, 10))\n",
    "for i, image in enumerate(custom_images):\n",
    "  plt.subplot(1, 3, i+1)\n",
    "  plt.xticks([])\n",
    "  plt.yticks([])\n",
    "  plt.title(custom_pred_labels[i])\n",
    "  plt.imshow(image)"
   ]
  }
 ],
 "metadata": {
  "kernelspec": {
   "display_name": "Python 3 (ipykernel)",
   "language": "python",
   "name": "python3"
  },
  "language_info": {
   "codemirror_mode": {
    "name": "ipython",
    "version": 3
   },
   "file_extension": ".py",
   "mimetype": "text/x-python",
   "name": "python",
   "nbconvert_exporter": "python",
   "pygments_lexer": "ipython3",
   "version": "3.12.3"
  }
 },
 "nbformat": 4,
 "nbformat_minor": 5
}
